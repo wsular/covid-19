{
 "cells": [
  {
   "cell_type": "code",
   "execution_count": null,
   "metadata": {},
   "outputs": [],
   "source": [
    "def plotLogCases(state, date):\n",
    "    fipsCode = fips[fips.stname==state].st.values[0];\n",
    "    mx       = US_County_Covid19_Data.loc[US_County_Covid19_Data.state==state].cases.max()\n",
    "    covid19  = US_County_Covid19_Data.loc[US_County_Covid19_Data.state==state].loc[US_County_Covid19_Data.date==date]\n",
    "    data     = gdf[gdf['STATEFP']==fipsCode].set_index('NAME').join(covid19[covid19.state==state].set_index('county'))\n",
    "    data['logCases'] = np.log10(data.cases)\n",
    "    \n",
    "    return data.hvplot(geo=True, c='cases', cmap='Viridis', clim=(0, mx), xaxis=None, yaxis=None, hover_cols=['NAME', 'cases']) + data.hvplot(geo=True, c='logCases', cmap='Viridis', clim=(0, np.log10(mx)), xaxis=None, yaxis=None, hover_cols=['NAME', 'logCases'])"
   ]
  },
  {
   "cell_type": "code",
   "execution_count": null,
   "metadata": {},
   "outputs": [],
   "source": [
    "interact(plotLogCases, state='Washington', date='2020-03-26');"
   ]
  }
 ],
 "metadata": {
  "kernelspec": {
   "display_name": "Python 3.7.6 64-bit ('work': conda)",
   "language": "python",
   "name": "python37664bitworkconda430bea74029c4a7cb3b67677b394189a"
  },
  "language_info": {
   "codemirror_mode": {
    "name": "ipython",
    "version": 3
   },
   "file_extension": ".py",
   "mimetype": "text/x-python",
   "name": "python",
   "nbconvert_exporter": "python",
   "pygments_lexer": "ipython3",
   "version": "3.7.6"
  }
 },
 "nbformat": 4,
 "nbformat_minor": 4
}
