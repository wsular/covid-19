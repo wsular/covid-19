{
 "cells": [
  {
   "cell_type": "markdown",
   "metadata": {},
   "source": [
    "# Time evolution of covid-19 cases in the United State (by county)"
   ]
  },
  {
   "cell_type": "markdown",
   "metadata": {},
   "source": [
    "- Created by:\n",
    "    - *Von P. Walden*\n",
    "    - *Washington State University*\n",
    "    - *Department of Civil and Environmental Engineering*\n",
    "    - *28 March 2020*"
   ]
  },
  {
   "cell_type": "code",
   "execution_count": 1,
   "metadata": {},
   "outputs": [],
   "source": [
    "import warnings\n",
    "warnings.simplefilter('ignore')"
   ]
  },
  {
   "cell_type": "code",
   "execution_count": 10,
   "metadata": {},
   "outputs": [],
   "source": [
    "import numpy as np\n",
    "import pandas as pd\n",
    "import geopandas as gpd\n",
    "import ipywidgets as widgets\n",
    "import requests\n",
    "import hvplot.pandas"
   ]
  },
  {
   "cell_type": "markdown",
   "metadata": {},
   "source": [
    "### Data Sources"
   ]
  },
  {
   "cell_type": "markdown",
   "metadata": {},
   "source": [
    "- Special thanks to the New York Times for making county-level covid-19 data available at https://github.com/nytimes/covid-19-data\n",
    "- Geographic data for US counties acquired from https://www2.census.gov/geo/tiger/GENZ2018/shp/cb_2018_us_county_20m.zip \n",
    "- FIPS table for US States acquired from https://gist.github.com/dantonnoriega/bf1acd2290e15b91e6710b6fd3be0a53"
   ]
  },
  {
   "cell_type": "code",
   "execution_count": 18,
   "metadata": {},
   "outputs": [],
   "source": [
    "US_County_Covid19_Data = pd.read_csv('https://raw.githubusercontent.com/nytimes/covid-19-data/master/us-counties.csv')\n",
    "dates = pd.to_datetime(US_County_Covid19_Data.date.unique())"
   ]
  },
  {
   "cell_type": "code",
   "execution_count": 19,
   "metadata": {},
   "outputs": [],
   "source": [
    "gdf = gpd.read_file('cb_2018_us_county_20m/cb_2018_us_county_20m.shp')"
   ]
  },
  {
   "cell_type": "code",
   "execution_count": 20,
   "metadata": {},
   "outputs": [],
   "source": [
    "fips = pd.read_csv('us-state-ansi-fips.csv', skiprows=1, dtype=str)\n",
    "states = fips.stname.tolist()"
   ]
  },
  {
   "cell_type": "code",
   "execution_count": 23,
   "metadata": {},
   "outputs": [
    {
     "data": {
      "application/vnd.jupyter.widget-view+json": {
       "model_id": "f75acb98e88244e5ae63988265c49851",
       "version_major": 2,
       "version_minor": 0
      },
      "text/plain": [
       "interactive(children=(Dropdown(description='state', index=47, options=('Alabama', 'Alaska', 'Arizona', 'Arkans…"
      ]
     },
     "metadata": {},
     "output_type": "display_data"
    }
   ],
   "source": [
    "options = [(i.strftime('%Y-%m-%d'), i) for i in dates]\n",
    "daynum  = dates.strftime('%s').astype(int)\n",
    "\n",
    "intSlide = widgets.IntSlider(\n",
    "    value=daynum[-1],\n",
    "    min=daynum[0],\n",
    "    max=daynum[-1],\n",
    "    step=1,\n",
    "    description='Date:',\n",
    "    disabled=False,\n",
    "    continuous_update=True,\n",
    "    orientation='horizontal',\n",
    "    readout=False\n",
    ")\n",
    "\n",
    "@widgets.interact(state=states, date=intSlide)\n",
    "def plotCases(state='Washington', date=daynum[-1]):\n",
    "    dt       = pd.to_datetime(date, unit='s').strftime('%Y-%m-%d')\n",
    "    fipsCode = fips[fips.stname==state].st.values[0];\n",
    "    mx       = US_County_Covid19_Data.loc[US_County_Covid19_Data.state==state].cases.max()\n",
    "    sm       = US_County_Covid19_Data.loc[US_County_Covid19_Data.state==state].loc[US_County_Covid19_Data.date==dt].cases.sum()\n",
    "    covid19  = US_County_Covid19_Data.loc[US_County_Covid19_Data.state==state].loc[US_County_Covid19_Data.date==dt]\n",
    "    data     = gdf[gdf['STATEFP']==fipsCode].set_index('NAME').join(covid19[covid19.state==state].set_index('county'))\n",
    "\n",
    "    return data.hvplot(title = state + ' - ' + dt + '   Total reported cases: ' + str(sm), frame_width=600, geo=True, c='cases', cmap='Viridis', clim=(0, mx), xaxis=None, yaxis=None, hover_cols=['cases', 'NAME'])"
   ]
  },
  {
   "cell_type": "code",
   "execution_count": null,
   "metadata": {},
   "outputs": [],
   "source": []
  }
 ],
 "metadata": {
  "kernelspec": {
   "display_name": "Python 3.7.6 64-bit ('work': conda)",
   "language": "python",
   "name": "python37664bitworkconda430bea74029c4a7cb3b67677b394189a"
  },
  "language_info": {
   "codemirror_mode": {
    "name": "ipython",
    "version": 3
   },
   "file_extension": ".py",
   "mimetype": "text/x-python",
   "name": "python",
   "nbconvert_exporter": "python",
   "pygments_lexer": "ipython3",
   "version": "3.7.6"
  }
 },
 "nbformat": 4,
 "nbformat_minor": 4
}
